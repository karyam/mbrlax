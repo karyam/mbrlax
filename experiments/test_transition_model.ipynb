{
 "cells": [
  {
   "cell_type": "code",
   "execution_count": 3,
   "metadata": {},
   "outputs": [],
   "source": [
    "from IPython.display import clear_output\n",
    "import matplotlib.pyplot as plt\n",
    "from bsuite.environments import cartpole\n",
    "\n",
    "from mbrlax.models import GPModelSpec, SVGP, initialize_gp_model\n",
    "from mbrlax.utils import ReplayBuffer, Driver, EnvironmentModel\n",
    "from mbrlax.policy import GPPolicy\n",
    "from mbrlax.transition_model import GPTransitionModel\n",
    "from mbrlax.optimizers import SGD\n",
    "\n",
    "from gpjax.likelihoods import Gaussian\n",
    "from gpjax.parameters import build_constrain_params\n",
    "from gpjax.datasets import CustomDataset, NumpyLoader\n",
    "from gpjax.config import default_float\n",
    "\n",
    "from gpflow_pilco.envs import CartPole\n",
    "\n",
    "import jax\n",
    "import jax.numpy as jnp\n",
    "\n",
    "import tensorflow as tf\n",
    "import optax"
   ]
  },
  {
   "cell_type": "markdown",
   "metadata": {},
   "source": [
    "## Collect experience (states, actions) and format it as input to the GP."
   ]
  },
  {
   "cell_type": "code",
   "execution_count": 4,
   "metadata": {},
   "outputs": [],
   "source": [
    "seed = 42\n",
    "initial_lr = 1e-3\n",
    "key = jax.random.PRNGKey(seed)\n",
    "# cartpole_env = cartpole.Cartpole(seed=seed)\n",
    "cartpole_env = CartPole(time_per_step=0.1)"
   ]
  },
  {
   "cell_type": "code",
   "execution_count": 5,
   "metadata": {},
   "outputs": [],
   "source": [
    "class RandomPolicy:\n",
    "    def __init__(self, key, action_space):\n",
    "        self.key = key\n",
    "        self.action_space = action_space\n",
    "\n",
    "    def step(self, time_step, mode=None):\n",
    "        # return jax.random.choice(key=self.key, a=self.action_space)\n",
    "        self.action_space.sample()"
   ]
  },
  {
   "cell_type": "code",
   "execution_count": 8,
   "metadata": {},
   "outputs": [
    {
     "ename": "TypeError",
     "evalue": "choice requires ndarray or scalar arguments, got <class 'gym.spaces.box.Box'> at position 0.",
     "output_type": "error",
     "traceback": [
      "\u001b[0;31m---------------------------------------------------------------------------\u001b[0m",
      "\u001b[0;31mTypeError\u001b[0m                                 Traceback (most recent call last)",
      "\u001b[0;32m/var/folders/xf/9wlqrlfd1dz_z97m_qlvwy6w0000gn/T/ipykernel_6940/2729542005.py\u001b[0m in \u001b[0;36m<cell line: 11>\u001b[0;34m()\u001b[0m\n\u001b[1;32m      9\u001b[0m     \u001b[0mmax_steps\u001b[0m\u001b[0;34m=\u001b[0m\u001b[0;36m30\u001b[0m\u001b[0;34m\u001b[0m\u001b[0;34m\u001b[0m\u001b[0m\n\u001b[1;32m     10\u001b[0m )\n\u001b[0;32m---> 11\u001b[0;31m \u001b[0mdriver\u001b[0m\u001b[0;34m.\u001b[0m\u001b[0mrun\u001b[0m\u001b[0;34m(\u001b[0m\u001b[0mcartpole_env\u001b[0m\u001b[0;34m.\u001b[0m\u001b[0mreset\u001b[0m\u001b[0;34m(\u001b[0m\u001b[0;34m)\u001b[0m\u001b[0;34m)\u001b[0m\u001b[0;34m\u001b[0m\u001b[0;34m\u001b[0m\u001b[0m\n\u001b[0m\u001b[1;32m     12\u001b[0m \u001b[0mexperience\u001b[0m \u001b[0;34m=\u001b[0m \u001b[0mreplay_buffer\u001b[0m\u001b[0;34m.\u001b[0m\u001b[0mgather_all\u001b[0m\u001b[0;34m(\u001b[0m\u001b[0;34m)\u001b[0m\u001b[0;34m\u001b[0m\u001b[0;34m\u001b[0m\u001b[0m\n",
      "\u001b[0;32m~/Desktop/mbrlax/mbrlax/utils/driver.py\u001b[0m in \u001b[0;36mrun\u001b[0;34m(self, time_step)\u001b[0m\n\u001b[1;32m     24\u001b[0m         \u001b[0mstep\u001b[0m\u001b[0;34m,\u001b[0m \u001b[0mepisode\u001b[0m \u001b[0;34m=\u001b[0m \u001b[0;36m0\u001b[0m\u001b[0;34m,\u001b[0m \u001b[0;36m0\u001b[0m\u001b[0;34m\u001b[0m\u001b[0;34m\u001b[0m\u001b[0m\n\u001b[1;32m     25\u001b[0m         \u001b[0;32mwhile\u001b[0m \u001b[0mstep\u001b[0m \u001b[0;34m<\u001b[0m \u001b[0mself\u001b[0m\u001b[0;34m.\u001b[0m\u001b[0mmax_steps\u001b[0m \u001b[0;32mand\u001b[0m \u001b[0mepisode\u001b[0m \u001b[0;34m<\u001b[0m \u001b[0mself\u001b[0m\u001b[0;34m.\u001b[0m\u001b[0mmax_episodes\u001b[0m\u001b[0;34m:\u001b[0m\u001b[0;34m\u001b[0m\u001b[0;34m\u001b[0m\u001b[0m\n\u001b[0;32m---> 26\u001b[0;31m             \u001b[0maction\u001b[0m \u001b[0;34m=\u001b[0m \u001b[0mself\u001b[0m\u001b[0;34m.\u001b[0m\u001b[0mpolicy\u001b[0m\u001b[0;34m.\u001b[0m\u001b[0mstep\u001b[0m\u001b[0;34m(\u001b[0m\u001b[0mtime_step\u001b[0m\u001b[0;34m,\u001b[0m \u001b[0mself\u001b[0m\u001b[0;34m.\u001b[0m\u001b[0mmode\u001b[0m\u001b[0;34m)\u001b[0m\u001b[0;34m\u001b[0m\u001b[0;34m\u001b[0m\u001b[0m\n\u001b[0m\u001b[1;32m     27\u001b[0m             \u001b[0mnext_time_step\u001b[0m \u001b[0;34m=\u001b[0m \u001b[0mself\u001b[0m\u001b[0;34m.\u001b[0m\u001b[0menv\u001b[0m\u001b[0;34m.\u001b[0m\u001b[0mstep\u001b[0m\u001b[0;34m(\u001b[0m\u001b[0maction\u001b[0m\u001b[0;34m)\u001b[0m\u001b[0;34m\u001b[0m\u001b[0;34m\u001b[0m\u001b[0m\n\u001b[1;32m     28\u001b[0m             \u001b[0;31m# if next_time_step.last(): next_time_step = env.reset()\u001b[0m\u001b[0;34m\u001b[0m\u001b[0;34m\u001b[0m\u001b[0;34m\u001b[0m\u001b[0m\n",
      "\u001b[0;32m/var/folders/xf/9wlqrlfd1dz_z97m_qlvwy6w0000gn/T/ipykernel_6940/4208681283.py\u001b[0m in \u001b[0;36mstep\u001b[0;34m(self, time_step, mode)\u001b[0m\n\u001b[1;32m      5\u001b[0m \u001b[0;34m\u001b[0m\u001b[0m\n\u001b[1;32m      6\u001b[0m     \u001b[0;32mdef\u001b[0m \u001b[0mstep\u001b[0m\u001b[0;34m(\u001b[0m\u001b[0mself\u001b[0m\u001b[0;34m,\u001b[0m \u001b[0mtime_step\u001b[0m\u001b[0;34m,\u001b[0m \u001b[0mmode\u001b[0m\u001b[0;34m=\u001b[0m\u001b[0;32mNone\u001b[0m\u001b[0;34m)\u001b[0m\u001b[0;34m:\u001b[0m\u001b[0;34m\u001b[0m\u001b[0;34m\u001b[0m\u001b[0m\n\u001b[0;32m----> 7\u001b[0;31m         \u001b[0;32mreturn\u001b[0m \u001b[0mjax\u001b[0m\u001b[0;34m.\u001b[0m\u001b[0mrandom\u001b[0m\u001b[0;34m.\u001b[0m\u001b[0mchoice\u001b[0m\u001b[0;34m(\u001b[0m\u001b[0mkey\u001b[0m\u001b[0;34m=\u001b[0m\u001b[0mself\u001b[0m\u001b[0;34m.\u001b[0m\u001b[0mkey\u001b[0m\u001b[0;34m,\u001b[0m \u001b[0ma\u001b[0m\u001b[0;34m=\u001b[0m\u001b[0mself\u001b[0m\u001b[0;34m.\u001b[0m\u001b[0maction_space\u001b[0m\u001b[0;34m)\u001b[0m\u001b[0;34m\u001b[0m\u001b[0;34m\u001b[0m\u001b[0m\n\u001b[0m",
      "\u001b[0;32m~/Library/Caches/pypoetry/virtualenvs/mbrlax-W83qhuLc-py3.8/lib/python3.8/site-packages/jax/_src/random.py\u001b[0m in \u001b[0;36mchoice\u001b[0;34m(key, a, shape, replace, p, axis)\u001b[0m\n\u001b[1;32m    470\u001b[0m     raise TypeError(\"shape argument of jax.random.choice must be a sequence, \"\n\u001b[1;32m    471\u001b[0m                     f\"got {shape}\")\n\u001b[0;32m--> 472\u001b[0;31m   \u001b[0m_check_arraylike\u001b[0m\u001b[0;34m(\u001b[0m\u001b[0;34m\"choice\"\u001b[0m\u001b[0;34m,\u001b[0m \u001b[0ma\u001b[0m\u001b[0;34m)\u001b[0m\u001b[0;34m\u001b[0m\u001b[0;34m\u001b[0m\u001b[0m\n\u001b[0m\u001b[1;32m    473\u001b[0m   \u001b[0;32mif\u001b[0m \u001b[0mnp\u001b[0m\u001b[0;34m.\u001b[0m\u001b[0mndim\u001b[0m\u001b[0;34m(\u001b[0m\u001b[0ma\u001b[0m\u001b[0;34m)\u001b[0m \u001b[0;34m==\u001b[0m \u001b[0;36m0\u001b[0m\u001b[0;34m:\u001b[0m\u001b[0;34m\u001b[0m\u001b[0;34m\u001b[0m\u001b[0m\n\u001b[1;32m    474\u001b[0m     \u001b[0ma\u001b[0m \u001b[0;34m=\u001b[0m \u001b[0mcore\u001b[0m\u001b[0;34m.\u001b[0m\u001b[0mconcrete_or_error\u001b[0m\u001b[0;34m(\u001b[0m\u001b[0mint\u001b[0m\u001b[0;34m,\u001b[0m \u001b[0ma\u001b[0m\u001b[0;34m,\u001b[0m \u001b[0;34m\"The error occurred in jax.random.choice()\"\u001b[0m\u001b[0;34m)\u001b[0m\u001b[0;34m\u001b[0m\u001b[0;34m\u001b[0m\u001b[0m\n",
      "\u001b[0;32m~/Library/Caches/pypoetry/virtualenvs/mbrlax-W83qhuLc-py3.8/lib/python3.8/site-packages/jax/_src/numpy/util.py\u001b[0m in \u001b[0;36m_check_arraylike\u001b[0;34m(fun_name, *args)\u001b[0m\n\u001b[1;32m    296\u001b[0m                     if not _arraylike(arg))\n\u001b[1;32m    297\u001b[0m     \u001b[0mmsg\u001b[0m \u001b[0;34m=\u001b[0m \u001b[0;34m\"{} requires ndarray or scalar arguments, got {} at position {}.\"\u001b[0m\u001b[0;34m\u001b[0m\u001b[0;34m\u001b[0m\u001b[0m\n\u001b[0;32m--> 298\u001b[0;31m     \u001b[0;32mraise\u001b[0m \u001b[0mTypeError\u001b[0m\u001b[0;34m(\u001b[0m\u001b[0mmsg\u001b[0m\u001b[0;34m.\u001b[0m\u001b[0mformat\u001b[0m\u001b[0;34m(\u001b[0m\u001b[0mfun_name\u001b[0m\u001b[0;34m,\u001b[0m \u001b[0mtype\u001b[0m\u001b[0;34m(\u001b[0m\u001b[0marg\u001b[0m\u001b[0;34m)\u001b[0m\u001b[0;34m,\u001b[0m \u001b[0mpos\u001b[0m\u001b[0;34m)\u001b[0m\u001b[0;34m)\u001b[0m\u001b[0;34m\u001b[0m\u001b[0;34m\u001b[0m\u001b[0m\n\u001b[0m\u001b[1;32m    299\u001b[0m \u001b[0;34m\u001b[0m\u001b[0m\n\u001b[1;32m    300\u001b[0m \u001b[0;34m\u001b[0m\u001b[0m\n",
      "\u001b[0;31mTypeError\u001b[0m: choice requires ndarray or scalar arguments, got <class 'gym.spaces.box.Box'> at position 0."
     ]
    }
   ],
   "source": [
    "random_policy = RandomPolicy(key, cartpole_env.action_space)\n",
    "replay_buffer = ReplayBuffer(5000)\n",
    "driver = Driver(\n",
    "    mode=\"random\",\n",
    "    env=cartpole_env,\n",
    "    policy=random_policy,\n",
    "    transition_observers=[replay_buffer.push],\n",
    "    observers=[],\n",
    "    max_steps=30\n",
    ")\n",
    "driver.run(cartpole_env.reset())\n",
    "experience = replay_buffer.gather_all()"
   ]
  },
  {
   "cell_type": "code",
   "execution_count": 5,
   "metadata": {},
   "outputs": [],
   "source": [
    "def optimizer_callback(epoch, loss_history):\n",
    "    if epoch % 20 == 0:\n",
    "        clear_output(True)\n",
    "        plt.figure(figsize=[16, 8])\n",
    "        plt.subplot(1, 2, 1)\n",
    "        plt.title(\"Mean ELBO = %.3f\" % -jnp.mean(jnp.array(loss_history[-32:])))\n",
    "        plt.scatter(jnp.arange(len(loss_history)), jnp.array(loss_history)*-1.0)\n",
    "        plt.grid()\n",
    "        plt.show()"
   ]
  },
  {
   "cell_type": "code",
   "execution_count": 6,
   "metadata": {},
   "outputs": [
    {
     "name": "stdout",
     "output_type": "stream",
     "text": [
      "dict_keys(['kernel', 'likelihood', 'mean_function', 'inducing_variable', 'q_mu', 'q_sqrt'])\n"
     ]
    }
   ],
   "source": [
    "sgd_optimizer = SGD(\n",
    "    optimizer=optax.adam(initial_lr),\n",
    "    callback=optimizer_callback\n",
    ")\n",
    "\n",
    "model_spec = GPModelSpec(\n",
    "    type=SVGP,\n",
    "    num_inducing=32,\n",
    "    likelihood=Gaussian(),\n",
    "    model_uncertainty=True,\n",
    ")\n",
    "\n",
    "transition_model = GPTransitionModel(\n",
    "    gp_model_spec = model_spec,\n",
    "    inference_strategy = None,\n",
    "    optimizer = sgd_optimizer,\n",
    "    reinitialize = True\n",
    ")\n",
    "data = transition_model.get_gp_data(experience)\n",
    "transition_model.initialize(experience)\n",
    "# transition_model.train(experience)"
   ]
  },
  {
   "cell_type": "code",
   "execution_count": 8,
   "metadata": {},
   "outputs": [],
   "source": [
    "# params = transition_model.model.get_params()\n",
    "# print(len(params[\"kernel\"]))\n",
    "# print(params[\"kernel\"][1][\"lengthscales\"].shape)\n",
    "# print(params[\"kernel\"][1][\"variance\"])\n",
    "# print(params[\"likelihood\"][\"variance\"].shape)\n",
    "# print(params[\"inducing_variable\"].shape)\n",
    "# print(params[\"q_mu\"].shape)\n",
    "# print(params[\"q_sqrt\"].shape)"
   ]
  },
  {
   "cell_type": "markdown",
   "metadata": {},
   "source": [
    "## Train model"
   ]
  },
  {
   "cell_type": "code",
   "execution_count": 18,
   "metadata": {},
   "outputs": [],
   "source": [
    "start_learning_rate = 1e-3\n",
    "batch_size = 60\n",
    "num_epochs = 900\n",
    "\n",
    "# Create optimizer\n",
    "opt_init, opt_update, get_params = optimizers.adam(learning_rate)\n",
    "model_params = transition_model.model.get_params()"
   ]
  },
  {
   "cell_type": "code",
   "execution_count": 10,
   "metadata": {},
   "outputs": [],
   "source": [
    "inputs, targets = data\n",
    "training_data = CustomDataset(inputs, targets)\n",
    "train_dataloader = NumpyLoader(training_data, batch_size=batch_size, shuffle=True)"
   ]
  },
  {
   "cell_type": "code",
   "execution_count": 13,
   "metadata": {},
   "outputs": [],
   "source": [
    "svgp_transforms = transition_model.model.get_transforms()\n",
    "constrain_params = build_constrain_params(svgp_transforms)\n",
    "elbo = transition_model.model.build_elbo(constrain_params=constrain_params, num_data=inputs.shape[0])\n",
    "\n",
    "def negative_elbo(params, batch):\n",
    "    return - elbo(params, batch)\n",
    "\n",
    "@jax.jit\n",
    "def train_step(step_i, opt_state, batch):\n",
    "    params = get_params(opt_state)\n",
    "    loss, grads = jax.value_and_grad(negative_elbo, argnums=0)(params, batch)\n",
    "    return loss, opt_update(step_i, grads, opt_state)"
   ]
  },
  {
   "cell_type": "code",
   "execution_count": 19,
   "metadata": {},
   "outputs": [],
   "source": [
    "optimizer = optax.adam(start_learning_rate)\n",
    "\n",
    "@jax.jit\n",
    "def train_step_optax(step_i, params, opt_state, batch):\n",
    "    loss, grads = jax.value_and_grad(negative_elbo, argnums=0)(params, batch)\n",
    "    updates, opt_state = optimizer.update(grads, opt_state)\n",
    "    return loss, updates, opt_state"
   ]
  },
  {
   "cell_type": "code",
   "execution_count": 22,
   "metadata": {},
   "outputs": [
    {
     "data": {
      "image/png": "[encoded data removed]",
      "text/plain": [
       "<Figure size 1152x576 with 1 Axes>"
      ]
     },
     "metadata": {
      "needs_background": "light"
     },
     "output_type": "display_data"
    }
   ],
   "source": [
    "opt_state = optimizer.init(model_params)\n",
    "params = model_params\n",
    "loss_history = []\n",
    "\n",
    "for epoch in range(num_epochs):\n",
    "    loss, updates, opt_state = train_step_optax(epoch, params, opt_state, data)\n",
    "    params = optax.apply_updates(params, updates)\n",
    "    loss_history.append(loss)\n",
    "\n",
    "    if epoch % 20 == 0:\n",
    "        clear_output(True)\n",
    "        plt.figure(figsize=[16, 8])\n",
    "        plt.subplot(1, 2, 1)\n",
    "        plt.title(\"Mean ELBO = %.3f\" % -jnp.mean(jnp.array(loss_history[-32:])))\n",
    "        plt.scatter(jnp.arange(len(loss_history)), jnp.array(loss_history)*-1.0)\n",
    "        plt.grid()\n",
    "        plt.show()"
   ]
  },
  {
   "cell_type": "markdown",
   "metadata": {},
   "source": [
    "## Test policy"
   ]
  },
  {
   "cell_type": "code",
   "execution_count": 27,
   "metadata": {},
   "outputs": [],
   "source": [
    "from tensorflow_probability.substrates import jax as tfp\n",
    "tfb = tfp.bijectors"
   ]
  },
  {
   "cell_type": "code",
   "execution_count": 33,
   "metadata": {},
   "outputs": [
    {
     "ename": "NameError",
     "evalue": "name 'objective' is not defined",
     "output_type": "error",
     "traceback": [
      "\u001b[0;31m---------------------------------------------------------------------------\u001b[0m",
      "\u001b[0;31mNameError\u001b[0m                                 Traceback (most recent call last)",
      "\u001b[0;32m/var/folders/xf/9wlqrlfd1dz_z97m_qlvwy6w0000gn/T/ipykernel_5602/1789855670.py\u001b[0m in \u001b[0;36m<cell line: 19>\u001b[0;34m()\u001b[0m\n\u001b[1;32m     20\u001b[0m     \u001b[0maction_space\u001b[0m \u001b[0;34m=\u001b[0m \u001b[0mjnp\u001b[0m\u001b[0;34m.\u001b[0m\u001b[0marray\u001b[0m\u001b[0;34m(\u001b[0m\u001b[0;34m[\u001b[0m\u001b[0;36m0\u001b[0m\u001b[0;34m,\u001b[0m\u001b[0;36m1\u001b[0m\u001b[0;34m,\u001b[0m\u001b[0;36m2\u001b[0m\u001b[0;34m]\u001b[0m\u001b[0;34m)\u001b[0m\u001b[0;34m,\u001b[0m\u001b[0;34m\u001b[0m\u001b[0;34m\u001b[0m\u001b[0m\n\u001b[1;32m     21\u001b[0m     \u001b[0mgp_model_spec\u001b[0m\u001b[0;34m=\u001b[0m\u001b[0mpolicy_model_spec\u001b[0m\u001b[0;34m,\u001b[0m\u001b[0;34m\u001b[0m\u001b[0;34m\u001b[0m\u001b[0m\n\u001b[0;32m---> 22\u001b[0;31m     \u001b[0mobjective\u001b[0m\u001b[0;34m=\u001b[0m\u001b[0mobjective\u001b[0m\u001b[0;34m,\u001b[0m\u001b[0;34m\u001b[0m\u001b[0;34m\u001b[0m\u001b[0m\n\u001b[0m\u001b[1;32m     23\u001b[0m     \u001b[0moptimizer\u001b[0m\u001b[0;34m=\u001b[0m\u001b[0mpolicy_optimizer\u001b[0m\u001b[0;34m,\u001b[0m\u001b[0;34m\u001b[0m\u001b[0;34m\u001b[0m\u001b[0m\n\u001b[1;32m     24\u001b[0m     \u001b[0minference_strategy\u001b[0m\u001b[0;34m=\u001b[0m\u001b[0minference_strategy\u001b[0m\u001b[0;34m\u001b[0m\u001b[0;34m\u001b[0m\u001b[0m\n",
      "\u001b[0;31mNameError\u001b[0m: name 'objective' is not defined"
     ]
    }
   ],
   "source": [
    "# inverse link function\n",
    "#TODO: cast with default_float\n",
    "invlink = tfb.Chain(bijectors=[\n",
    "    tfb.Scale(scale=20-1e-5),\n",
    "    tfb.Shift(shift=-0.5),\n",
    "    tfb.NormalCDF()]\n",
    ")\n",
    "\n",
    "policy_model_spec = GPModelSpec(\n",
    "    type=SVGP,\n",
    "    num_inducing=32,\n",
    "    likelihood=Gaussian(),\n",
    "    prior=None,\n",
    "    mean_function=\"default\",\n",
    "    model_uncertainty=False,\n",
    "    invlink = invlink\n",
    ")\n",
    "\n",
    "policy = GPPolicy(\n",
    "    action_space = jnp.array([0,1,2]),\n",
    "    gp_model_spec=policy_model_spec,\n",
    "    objective=objective,\n",
    "    optimizer=policy_optimizer,\n",
    "    inference_strategy=inference_strategy\n",
    ")"
   ]
  },
  {
   "cell_type": "code",
   "execution_count": null,
   "metadata": {},
   "outputs": [],
   "source": [
    "environment_model = EnvironmentModel(\n",
    "    transition_model=transition_model,\n",
    "    reward_model=reward_model,\n",
    "    initial_state_model=initial_state_model\n",
    ")\n",
    "\n",
    "virtual_driver = Driver(\n",
    "    mode=\"plan\",\n",
    "    env=environment_model,\n",
    "    policy=policy,\n",
    "    transition_observers=[virtual_replay_buffer.push],\n",
    "    observers=[],\n",
    "    max_steps=30\n",
    ")"
   ]
  },
  {
   "cell_type": "code",
   "execution_count": null,
   "metadata": {},
   "outputs": [],
   "source": [
    "policy.initialize(experience)\n",
    "virtual_driver.run(environment_model.reset())\n",
    "virtual_experience = virtual_replay_buffer.get_last_n(virtual_driver.max_steps)\n",
    "result = policy.train(virtual_experience)"
   ]
  }
 ],
 "metadata": {
  "interpreter": {
   "hash": "39f594e56ca271a51379bd3ff126d91aa5490b0b6c1128ffbd9d181012798abb"
  },
  "kernelspec": {
   "display_name": "Python 3.8.3 64-bit ('mbrlax-W83qhuLc-py3.8': poetry)",
   "name": "python3"
  },
  "language_info": {
   "codemirror_mode": {
    "name": "ipython",
    "version": 3
   },
   "file_extension": ".py",
   "mimetype": "text/x-python",
   "name": "python",
   "nbconvert_exporter": "python",
   "pygments_lexer": "ipython3",
   "version": "3.8.3"
  },
  "orig_nbformat": 4
 },
 "nbformat": 4,
 "nbformat_minor": 2
}
