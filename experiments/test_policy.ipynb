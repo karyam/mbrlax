{
 "cells": [
  {
   "cell_type": "code",
   "execution_count": 2,
   "metadata": {},
   "outputs": [],
   "source": [
    "from mbrlax.models import SVGP, GPModelSpec, initialize_gp_model\n",
    "from gpjax.likelihoods import Gaussian, Likelihood\n",
    "from evosax import Strategy, CMA_ES\n",
    "import jax.numpy as jnp\n",
    "import tensorflow as tf\n",
    "from tensorflow_probability.python import bijectors\n",
    "from gpflow.config import default_float\n",
    "from mbrlax.utils import Driver\n",
    "from bsuite.environments import cartpole\n",
    "import jax"
   ]
  },
  {
   "cell_type": "code",
   "execution_count": 3,
   "metadata": {},
   "outputs": [],
   "source": [
    "def random_policy(key):\n",
    "    return jax.random.choice(key=key, a=action_space)\n",
    "\n",
    "def generate_experience(env, key, num_steps=30):\n",
    "    time_step = env.reset()\n",
    "    states, actions = [], []\n",
    "    states.append(time_step.observation[0])\n",
    "    for step in range(num_steps):\n",
    "        action = random_policy(key)\n",
    "        actions.append([action])\n",
    "        time_step = env.step(action)\n",
    "        if time_step.last(): time_step = env.reset()\n",
    "        states.append(time_step.observation[0])\n",
    "\n",
    "    return jnp.asarray(states), jnp.asarray(actions)\n",
    "\n",
    "def get_gp_data(states, actions):\n",
    "    return states, actions"
   ]
  },
  {
   "cell_type": "code",
   "execution_count": 4,
   "metadata": {},
   "outputs": [],
   "source": [
    "def populate_replay_buffer(env, key, num_steps=1000):\n",
    "    time_step = env.reset()\n",
    "    print(type(time_step.observation))\n",
    "    replay_buffer.push(time_step, None)\n",
    "    for step in range(num_steps):\n",
    "        action = random_policy(key)\n",
    "        time_step = env.step(action)\n",
    "        replay_buffer.push(env_output=time_step, action=action)\n",
    "        if time_step.last(): time_step = env.reset()"
   ]
  },
  {
   "cell_type": "code",
   "execution_count": 5,
   "metadata": {},
   "outputs": [
    {
     "ename": "SyntaxError",
     "evalue": "invalid syntax (2583288525.py, line 19)",
     "output_type": "error",
     "traceback": [
      "\u001b[0;36m  File \u001b[0;32m\"/var/folders/xf/9wlqrlfd1dz_z97m_qlvwy6w0000gn/T/ipykernel_1323/2583288525.py\"\u001b[0;36m, line \u001b[0;32m19\u001b[0m\n\u001b[0;31m    assert(obs_t.shape == (1000,6))s\u001b[0m\n\u001b[0m                                   ^\u001b[0m\n\u001b[0;31mSyntaxError\u001b[0m\u001b[0;31m:\u001b[0m invalid syntax\n"
     ]
    }
   ],
   "source": [
    "seed = 42\n",
    "replay_buffer.reset()\n",
    "key = jax.random.PRNGKey(seed)\n",
    "env = cartpole.Cartpole(seed=seed)\n",
    "populate_replay_buffer(env=env, key=key)\n",
    "obs_tm1, a_tm1, r_t, discount_t, obs_t = replay_buffer.sample(100)\n",
    "\n",
    "assert(obs_tm1.shape == (100, 6))\n",
    "assert(a_tm1.shape == (100,))\n",
    "assert(discount_t.shape == (100,))\n",
    "assert(r_t.shape == (100,))\n",
    "assert(obs_t.shape == (100,6))\n",
    "\n",
    "obs_tm1, a_tm1, r_t, discount_t, obs_t = replay_buffer.gather_all()\n",
    "assert(obs_tm1.shape == (1000, 6))\n",
    "assert(a_tm1.shape == (1000,))\n",
    "assert(discount_t.shape == (1000,))\n",
    "assert(r_t.shape == (1000,))\n",
    "assert(obs_t.shape == (1000,6))s"
   ]
  },
  {
   "cell_type": "code",
   "execution_count": null,
   "metadata": {},
   "outputs": [
    {
     "data": {
      "text/plain": [
       "((31, 6), (30, 1))"
      ]
     },
     "execution_count": 3,
     "metadata": {},
     "output_type": "execute_result"
    }
   ],
   "source": [
    "seed = 42\n",
    "action_space = jnp.array([0,1,2])\n",
    "key = jax.random.PRNGKey(seed)\n",
    "env = cartpole.Cartpole(seed=seed)\n",
    "inputs, targets = generate_experience(env=env, key=key)\n",
    "inputs.shape, targets.shape"
   ]
  },
  {
   "cell_type": "code",
   "execution_count": null,
   "metadata": {},
   "outputs": [],
   "source": [
    "class RandomPolicy:\n",
    "    def step(self, time_step):\n",
    "        return "
   ]
  },
  {
   "cell_type": "code",
   "execution_count": null,
   "metadata": {},
   "outputs": [],
   "source": [
    "# params = transition_model.model.get_params()\n",
    "# print(len(params[\"kernel\"]))\n",
    "# print(params[\"kernel\"][1][\"lengthscales\"].shape)\n",
    "# print(params[\"kernel\"][1][\"variance\"])\n",
    "# print(params[\"likelihood\"][\"variance\"].shape)\n",
    "# print(params[\"inducing_variable\"].shape)\n",
    "# print(params[\"q_mu\"].shape)\n",
    "# print(params[\"q_sqrt\"].shape)"
   ]
  },
  {
   "cell_type": "code",
   "execution_count": null,
   "metadata": {},
   "outputs": [
    {
     "ename": "NameError",
     "evalue": "name 'self' is not defined",
     "output_type": "error",
     "traceback": [
      "\u001b[0;31m---------------------------------------------------------------------------\u001b[0m",
      "\u001b[0;31mNameError\u001b[0m                                 Traceback (most recent call last)",
      "\u001b[0;32m/var/folders/xf/9wlqrlfd1dz_z97m_qlvwy6w0000gn/T/ipykernel_1489/1558972072.py\u001b[0m in \u001b[0;36m<cell line: 1>\u001b[0;34m()\u001b[0m\n\u001b[1;32m      1\u001b[0m real_collect_driver = Driver(\n\u001b[1;32m      2\u001b[0m     \u001b[0mmode\u001b[0m\u001b[0;34m=\u001b[0m\u001b[0;34m\"random\"\u001b[0m\u001b[0;34m,\u001b[0m\u001b[0;34m\u001b[0m\u001b[0;34m\u001b[0m\u001b[0m\n\u001b[0;32m----> 3\u001b[0;31m     \u001b[0menv\u001b[0m\u001b[0;34m=\u001b[0m\u001b[0mself\u001b[0m\u001b[0;34m.\u001b[0m\u001b[0menv\u001b[0m\u001b[0;34m,\u001b[0m\u001b[0;34m\u001b[0m\u001b[0;34m\u001b[0m\u001b[0m\n\u001b[0m\u001b[1;32m      4\u001b[0m     \u001b[0mpolicy\u001b[0m\u001b[0;34m=\u001b[0m\u001b[0mpolicy\u001b[0m\u001b[0;34m,\u001b[0m\u001b[0;34m\u001b[0m\u001b[0;34m\u001b[0m\u001b[0m\n\u001b[1;32m      5\u001b[0m     \u001b[0mtransition_observers\u001b[0m\u001b[0;34m=\u001b[0m\u001b[0;34m[\u001b[0m\u001b[0mself\u001b[0m\u001b[0;34m.\u001b[0m\u001b[0magent\u001b[0m\u001b[0;34m.\u001b[0m\u001b[0mreal_replay_buffer\u001b[0m\u001b[0;34m.\u001b[0m\u001b[0mpush\u001b[0m\u001b[0;34m]\u001b[0m\u001b[0;34m,\u001b[0m\u001b[0;34m\u001b[0m\u001b[0;34m\u001b[0m\u001b[0m\n",
      "\u001b[0;31mNameError\u001b[0m: name 'self' is not defined"
     ]
    }
   ],
   "source": [
    "real_collect_driver = Driver(\n",
    "    mode=\"random\",\n",
    "    env=self.env,\n",
    "    policy=policy,\n",
    "    transition_observers=[self.agent.real_replay_buffer.push],\n",
    "    observers=[episode_metrics],\n",
    "    max_steps=31\n",
    ")"
   ]
  },
  {
   "cell_type": "code",
   "execution_count": null,
   "metadata": {},
   "outputs": [
    {
     "name": "stdout",
     "output_type": "stream",
     "text": [
      "dict_keys(['kernel', 'likelihood', 'mean_function', 'inducing_variable', 'q_mu', 'q_sqrt'])\n"
     ]
    }
   ],
   "source": [
    "# inverse link function\n",
    "invlink = bijectors.Chain(bijectors=[\n",
    "    bijectors.Scale(scale=tf.cast(x=20 - 1e-5, dtype=default_float())),\n",
    "    bijectors.Shift(shift=tf.cast(x=-0.5, dtype=default_float())),\n",
    "    bijectors.NormalCDF()]\n",
    ")\n",
    "\n",
    "model_spec = GPModelSpec(\n",
    "    type=SVGP,\n",
    "    num_inducing=32,\n",
    "    likelihood=Gaussian(),\n",
    "    prior=None,\n",
    "    mean_function=\"default\",\n",
    "    model_uncertainty=False,\n",
    "    invlink = invlink\n",
    ")\n",
    "policy = initialize_gp_model(data=(inputs, targets), model_spec=model_spec)"
   ]
  },
  {
   "cell_type": "code",
   "execution_count": null,
   "metadata": {},
   "outputs": [
    {
     "name": "stdout",
     "output_type": "stream",
     "text": [
      "(6,)\n",
      "(31, 6)\n",
      "(31, 1)\n",
      "(1,)\n"
     ]
    }
   ],
   "source": [
    "print(model_parmas[\"kernel\"][0][\"lengthscales\"].shape)\n",
    "print(model_parmas[\"inducing_variable\"].shape)\n",
    "print(model_parmas[\"q_mu\"].shape)\n",
    "print(model_parmas[\"likelihood\"][\"variance\"].shape)"
   ]
  },
  {
   "cell_type": "code",
   "execution_count": null,
   "metadata": {},
   "outputs": [],
   "source": []
  },
  {
   "cell_type": "code",
   "execution_count": null,
   "metadata": {},
   "outputs": [],
   "source": []
  }
 ],
 "metadata": {
  "interpreter": {
   "hash": "39f594e56ca271a51379bd3ff126d91aa5490b0b6c1128ffbd9d181012798abb"
  },
  "kernelspec": {
   "display_name": "Python 3.8.3 64-bit ('mbrlax-W83qhuLc-py3.8': poetry)",
   "name": "python3"
  },
  "language_info": {
   "codemirror_mode": {
    "name": "ipython",
    "version": 3
   },
   "file_extension": ".py",
   "mimetype": "text/x-python",
   "name": "python",
   "nbconvert_exporter": "python",
   "pygments_lexer": "ipython3",
   "version": "3.8.3"
  },
  "orig_nbformat": 4
 },
 "nbformat": 4,
 "nbformat_minor": 2
}
