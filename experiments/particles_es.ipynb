{
 "cells": [
  {
   "cell_type": "code",
   "execution_count": 1,
   "metadata": {
    "pycharm": {
     "name": "#%%\n"
    }
   },
   "outputs": [
    {
     "name": "stderr",
     "output_type": "stream",
     "text": [
      "/Users/karyam/Library/Caches/pypoetry/virtualenvs/mbrlax-W83qhuLc-py3.8/lib/python3.8/site-packages/jax/_src/numpy/lax_numpy.py:1806: UserWarning: Explicitly requested dtype <class 'jax.numpy.float64'> requested in array is not available, and will be truncated to dtype float32. To enable more dtypes, set the jax_enable_x64 configuration option or the JAX_ENABLE_X64 shell environment variable. See https://github.com/google/jax#current-gotchas for more.\n",
      "  lax_internal._check_user_dtype_supported(dtype, \"array\")\n",
      "WARNING:absl:No GPU/TPU found, falling back to CPU. (Set TF_CPP_MIN_LOG_LEVEL=0 and rerun for more info.)\n",
      "/Users/karyam/Library/Caches/pypoetry/virtualenvs/mbrlax-W83qhuLc-py3.8/lib/python3.8/site-packages/matplotlib_inline/config.py:66: DeprecationWarning: InlineBackend._figure_formats_changed is deprecated in traitlets 4.1: use @observe and @unobserve instead.\n",
      "  def _figure_formats_changed(self, name, old, new):\n"
     ]
    }
   ],
   "source": [
    "from mbrlax.harness import ExperimentHarness\n",
    "from evosax.problems.cartpole import CartPole\n",
    "import brax"
   ]
  },
  {
   "cell_type": "code",
   "execution_count": null,
   "outputs": [],
   "source": [],
   "metadata": {
    "collapsed": false,
    "pycharm": {
     "name": "#%%\n"
    }
   }
  },
  {
   "cell_type": "code",
   "execution_count": 13,
   "outputs": [],
   "source": [
    "import jax, jax.random as random"
   ],
   "metadata": {
    "collapsed": false,
    "pycharm": {
     "name": "#%%\n"
    }
   }
  },
  {
   "cell_type": "code",
   "execution_count": 14,
   "outputs": [
    {
     "name": "stdout",
     "output_type": "stream",
     "text": [
      "[1029522022 3192139876]\n",
      "[3798893366   80478158]\n",
      "[3186488394 1289577730]\n",
      "[3541050083 2583609951]\n",
      "[ 330050552 4095492510]\n",
      "[1003926044 2979883796]\n"
     ]
    },
    {
     "data": {
      "text/plain": "DeviceArray(0.11355174, dtype=float32)"
     },
     "execution_count": 14,
     "metadata": {},
     "output_type": "execute_result"
    }
   ],
   "source": [
    "seed = 12\n",
    "key = jax.random.PRNGKey(seed)\n",
    "key, agent_key, driver_key = jax.random.split(key, 3)\n",
    "print(key)\n",
    "print(agent_key)\n",
    "print(driver_key)\n",
    "key, agent_key, driver_key = jax.random.split(key, 3)\n",
    "print(key)\n",
    "print(agent_key)\n",
    "print(driver_key)\n",
    "random.uniform(key)"
   ],
   "metadata": {
    "collapsed": false,
    "pycharm": {
     "name": "#%%\n"
    }
   }
  },
  {
   "cell_type": "code",
   "execution_count": 15,
   "outputs": [
    {
     "name": "stdout",
     "output_type": "stream",
     "text": [
      "[1029522022 3192139876]\n",
      "[3798893366   80478158]\n",
      "[3186488394 1289577730]\n",
      "[3541050083 2583609951]\n",
      "[ 330050552 4095492510]\n",
      "[1003926044 2979883796]\n"
     ]
    },
    {
     "data": {
      "text/plain": "DeviceArray(0.11355174, dtype=float32)"
     },
     "execution_count": 15,
     "metadata": {},
     "output_type": "execute_result"
    }
   ],
   "source": [
    "seed = 12\n",
    "key = jax.random.PRNGKey(seed)\n",
    "key, agent_key, driver_key = jax.random.split(key, 3)\n",
    "print(key)\n",
    "print(agent_key)\n",
    "print(driver_key)\n",
    "key, agent_key, driver_key = jax.random.split(key, 3)\n",
    "print(key)\n",
    "print(agent_key)\n",
    "print(driver_key)\n",
    "random.uniform(key)"
   ],
   "metadata": {
    "collapsed": false,
    "pycharm": {
     "name": "#%%\n"
    }
   }
  },
  {
   "cell_type": "code",
   "execution_count": null,
   "metadata": {
    "pycharm": {
     "name": "#%%\n"
    }
   },
   "outputs": [],
   "source": [
    "env_name = \"halfcheetah\"\n",
    "env = envs.create(\n",
    "    env_name=env_name,\n",
    "    episode_length=num_env_steps,\n",
    "    legacy_spring=legacy_spring,\n",
    ")"
   ]
  },
  {
   "cell_type": "code",
   "execution_count": null,
   "metadata": {
    "pycharm": {
     "name": "#%%\n"
    }
   },
   "outputs": [],
   "source": [
    "harness = ExperimentHarness(\n",
    "    agent=agent,\n",
    "    env=env\n",
    ")"
   ]
  }
 ],
 "metadata": {
  "interpreter": {
   "hash": "39f594e56ca271a51379bd3ff126d91aa5490b0b6c1128ffbd9d181012798abb"
  },
  "kernelspec": {
   "display_name": "Python 3.8.3 64-bit ('mbrlax-W83qhuLc-py3.8': poetry)",
   "name": "python3"
  },
  "language_info": {
   "codemirror_mode": {
    "name": "ipython",
    "version": 3
   },
   "file_extension": ".py",
   "mimetype": "text/x-python",
   "name": "python",
   "nbconvert_exporter": "python",
   "pygments_lexer": "ipython3",
   "version": "3.8.3"
  },
  "orig_nbformat": 4
 },
 "nbformat": 4,
 "nbformat_minor": 2
}