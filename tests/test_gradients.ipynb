{
 "cells": [
  {
   "cell_type": "code",
   "execution_count": 2,
   "metadata": {},
   "outputs": [],
   "source": [
    "from mbrlax.utils import Driver\n",
    "import jax\n",
    "import jax.numpy as jnp"
   ]
  },
  {
   "cell_type": "code",
   "execution_count": null,
   "metadata": {},
   "outputs": [],
   "source": [
    "key = jax.random.PRNGKey(0)"
   ]
  },
  {
   "cell_type": "code",
   "execution_count": 4,
   "metadata": {},
   "outputs": [],
   "source": [
    "from mbrlax.inference_strategy import ParticleSampling\n",
    "from mbrlax.utils import sample_mvn\n",
    "from tensorflow_probability.substrates import jax as tfp\n",
    "tfb = tfp.bijectors\n",
    "encoder = tfb.Identity()\n",
    "inference_strategy = ParticleSampling(\n",
    "    sampling_strategy=sample_mvn,\n",
    "    encoder=encoder\n",
    ")"
   ]
  },
  {
   "cell_type": "code",
   "execution_count": null,
   "metadata": {},
   "outputs": [],
   "source": [
    "from mbrlax.optimizers import SGD\n",
    "import optax\n",
    "\n",
    "initial_lr = 0.01\n",
    "\n",
    "optimizer = SGD(\n",
    "    optimizer=optax.adam(initial_lr),\n",
    "    num_epochs=1,\n",
    ")"
   ]
  },
  {
   "cell_type": "code",
   "execution_count": null,
   "metadata": {},
   "outputs": [],
   "source": [
    "model_spec = GPModelSpec(\n",
    "    type=SVGP,\n",
    "    num_inducing=32,\n",
    "    likelihood=Gaussian(),\n",
    "    model_uncertainty=True,\n",
    ")\n",
    "\n",
    "transition_model = GPTransitionModel(\n",
    "    gp_model_spec = model_spec,\n",
    "    inference_strategy = inference_strategy,\n",
    "    optimizer = optimizer,\n",
    "    reinitialize = True\n",
    ")"
   ]
  },
  {
   "cell_type": "code",
   "execution_count": null,
   "metadata": {},
   "outputs": [],
   "source": [
    "agent = PilcoAgent(\n",
    "    transition_model=transition_model,\n",
    "    reward_model=reward_model,\n",
    "    initial_state_model=initial_state_model,\n",
    "    policy=policy\n",
    ")\n",
    "key, agent_key = jax.random.split(key)\n",
    "agent.train(agent_key)"
   ]
  },
  {
   "cell_type": "code",
   "execution_count": null,
   "metadata": {},
   "outputs": [],
   "source": [
    "\n"
   ]
  }
 ],
 "metadata": {
  "interpreter": {
   "hash": "39f594e56ca271a51379bd3ff126d91aa5490b0b6c1128ffbd9d181012798abb"
  },
  "kernelspec": {
   "display_name": "Python 3.8.3 64-bit ('mbrlax-W83qhuLc-py3.8': poetry)",
   "name": "python3"
  },
  "language_info": {
   "codemirror_mode": {
    "name": "ipython",
    "version": 3
   },
   "file_extension": ".py",
   "mimetype": "text/x-python",
   "name": "python",
   "nbconvert_exporter": "python",
   "pygments_lexer": "ipython3",
   "version": "3.8.3"
  },
  "orig_nbformat": 4
 },
 "nbformat": 4,
 "nbformat_minor": 2
}
